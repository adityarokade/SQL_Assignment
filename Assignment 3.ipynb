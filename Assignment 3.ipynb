{
 "cells": [
  {
   "cell_type": "code",
   "execution_count": 1,
   "metadata": {},
   "outputs": [
    {
     "name": "stdout",
     "output_type": "stream",
     "text": [
      "ANSWER:-  Select RTRIM(FIRST_NAME) from Worker;  \n"
     ]
    }
   ],
   "source": [
    "#Q-1. Write an SQL query to print the FIRST_NAME from Worker table after removing white spaces from the right side.\n",
    "\n",
    "\n",
    "\n",
    "print(\"\"\"ANSWER:-  Select RTRIM(FIRST_NAME) from Worker;  \"\"\")"
   ]
  },
  {
   "cell_type": "code",
   "execution_count": 2,
   "metadata": {},
   "outputs": [
    {
     "name": "stdout",
     "output_type": "stream",
     "text": [
      "ANSWER:-   Select distinct length(DEPARTMENT) from Worker;  \n"
     ]
    }
   ],
   "source": [
    "#Q-2. Write an SQL query that fetches the unique values of DEPARTMENT from Worker table and prints its length\n",
    "\n",
    "print(\"\"\"ANSWER:-   Select distinct length(DEPARTMENT) from Worker;  \"\"\")"
   ]
  },
  {
   "cell_type": "code",
   "execution_count": 3,
   "metadata": {},
   "outputs": [
    {
     "name": "stdout",
     "output_type": "stream",
     "text": [
      "ANSWER:-   SELECT distinct Salary from worker a WHERE n >= (SELECT count(distinct Salary) from worker b WHERE a.Salary <= b.Salary) order by a.Salary desc;  \n"
     ]
    }
   ],
   "source": [
    "#Q-3. Write an SQL query to fetch nth max salaries from a table.\n",
    "\n",
    "\n",
    "\n",
    "\n",
    "print(\"\"\"ANSWER:-   SELECT distinct Salary from worker a WHERE n >= (SELECT count(distinct Salary) from worker b WHERE a.Salary <= b.Salary) order by a.Salary desc;  \"\"\")"
   ]
  },
  {
   "cell_type": "code",
   "execution_count": null,
   "metadata": {},
   "outputs": [],
   "source": []
  },
  {
   "cell_type": "code",
   "execution_count": null,
   "metadata": {},
   "outputs": [],
   "source": []
  },
  {
   "cell_type": "code",
   "execution_count": null,
   "metadata": {},
   "outputs": [],
   "source": []
  },
  {
   "cell_type": "code",
   "execution_count": null,
   "metadata": {},
   "outputs": [],
   "source": []
  },
  {
   "cell_type": "code",
   "execution_count": null,
   "metadata": {},
   "outputs": [],
   "source": []
  }
 ],
 "metadata": {
  "kernelspec": {
   "display_name": "Python 3",
   "language": "python",
   "name": "python3"
  },
  "language_info": {
   "codemirror_mode": {
    "name": "ipython",
    "version": 3
   },
   "file_extension": ".py",
   "mimetype": "text/x-python",
   "name": "python",
   "nbconvert_exporter": "python",
   "pygments_lexer": "ipython3",
   "version": "3.7.6"
  }
 },
 "nbformat": 4,
 "nbformat_minor": 4
}
