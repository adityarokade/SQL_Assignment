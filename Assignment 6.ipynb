{
 "cells": [
  {
   "cell_type": "code",
   "execution_count": 1,
   "metadata": {},
   "outputs": [
    {
     "name": "stdout",
     "output_type": "stream",
     "text": [
      "ANSWER:-  Select * from Worker where year(JOINING_DATE) = 2014 and month(JOINING_DATE) = 2;  \n"
     ]
    }
   ],
   "source": [
    "#Q-1. Write an SQL query to print details of the Workers who have joined in Feb’2014.\n",
    "\n",
    "\n",
    "\n",
    "\n",
    "\n",
    "print(\"\"\"ANSWER:-  Select * from Worker where year(JOINING_DATE) = 2014 and month(JOINING_DATE) = 2;  \"\"\")"
   ]
  },
  {
   "cell_type": "code",
   "execution_count": 2,
   "metadata": {},
   "outputs": [
    {
     "name": "stdout",
     "output_type": "stream",
     "text": [
      "ANSWER:-   SELECT WORKER_TITLE, AFFECTED_FROM, COUNT(*)\n",
      "                    FROM Title\n",
      "                    GROUP BY WORKER_TITLE, AFFECTED_FROM\n",
      "                    HAVING COUNT(*) > 1;  \n"
     ]
    }
   ],
   "source": [
    "#Q-2. Write an SQL query to fetch duplicate records having matching data in some fields of a table.\n",
    "\n",
    "\n",
    "\n",
    "\n",
    "\n",
    "print(\"\"\"ANSWER:-   SELECT WORKER_TITLE, AFFECTED_FROM, COUNT(*)\n",
    "                    FROM Title\n",
    "                    GROUP BY WORKER_TITLE, AFFECTED_FROM\n",
    "                    HAVING COUNT(*) > 1;  \"\"\")"
   ]
  },
  {
   "cell_type": "code",
   "execution_count": 3,
   "metadata": {},
   "outputs": [
    {
     "name": "stdout",
     "output_type": "stream",
     "text": [
      "ANSWER:-  DELETE FROM DETAILS WHERE SN NOT IN (\n",
      "                    SELECT MAX(SN) FROM DETAILS GROUP BY EMPNAME,DEPT,CONTACTNO,CITY)  \n"
     ]
    }
   ],
   "source": [
    "#Q-3. How to remove duplicate rows from Employees table.\n",
    "\n",
    "\n",
    "\n",
    "\n",
    "\n",
    "print(\"\"\"ANSWER:-  DELETE FROM DETAILS WHERE SN NOT IN (\n",
    "                    SELECT MAX(SN) FROM DETAILS GROUP BY EMPNAME,DEPT,CONTACTNO,CITY)  \"\"\")\n"
   ]
  },
  {
   "cell_type": "code",
   "execution_count": null,
   "metadata": {},
   "outputs": [],
   "source": []
  }
 ],
 "metadata": {
  "kernelspec": {
   "display_name": "Python 3",
   "language": "python",
   "name": "python3"
  },
  "language_info": {
   "codemirror_mode": {
    "name": "ipython",
    "version": 3
   },
   "file_extension": ".py",
   "mimetype": "text/x-python",
   "name": "python",
   "nbconvert_exporter": "python",
   "pygments_lexer": "ipython3",
   "version": "3.7.6"
  }
 },
 "nbformat": 4,
 "nbformat_minor": 4
}
