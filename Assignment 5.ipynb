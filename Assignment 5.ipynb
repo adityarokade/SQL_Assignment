{
 "cells": [
  {
   "cell_type": "code",
   "execution_count": 1,
   "metadata": {},
   "outputs": [
    {
     "name": "stdout",
     "output_type": "stream",
     "text": [
      "ANSWER:-  Select * from Worker where FIRST_NAME not in ('Vipul','Satish');  \n"
     ]
    }
   ],
   "source": [
    "#Q-1. Write an SQL query to print details of workers excluding first names, “Vipul” and “Satish” from Worker table.\n",
    "\n",
    "\n",
    "\n",
    "\n",
    "print(\"\"\"ANSWER:-  Select * from Worker where FIRST_NAME not in ('Vipul','Satish');  \"\"\")"
   ]
  },
  {
   "cell_type": "code",
   "execution_count": 2,
   "metadata": {},
   "outputs": [
    {
     "name": "stdout",
     "output_type": "stream",
     "text": [
      "ANSWER:-  Select * from Worker where FIRST_NAME like '_____h';  \n"
     ]
    }
   ],
   "source": [
    "#Q-2. Write an SQL query to print details of the Workers whose FIRST_NAME ends with ‘h’ and contains six alphabets.\n",
    "\n",
    "\n",
    "print(\"\"\"ANSWER:-  Select * from Worker where FIRST_NAME like '_____h';  \"\"\")\n",
    "\n"
   ]
  },
  {
   "cell_type": "code",
   "execution_count": 3,
   "metadata": {},
   "outputs": [
    {
     "name": "stdout",
     "output_type": "stream",
     "text": [
      "ANSWER:-  SELECT * FROM student WHERE s_email LIKE '%@gmail.com';  \n"
     ]
    }
   ],
   "source": [
    "#Q-3. Write a query to validate Email of Employee.\n",
    "\n",
    "\n",
    "\n",
    "\n",
    "print(\"\"\"ANSWER:-  SELECT * FROM student WHERE s_email LIKE '%@gmail.com';  \"\"\")"
   ]
  },
  {
   "cell_type": "code",
   "execution_count": null,
   "metadata": {},
   "outputs": [],
   "source": []
  }
 ],
 "metadata": {
  "kernelspec": {
   "display_name": "Python 3",
   "language": "python",
   "name": "python3"
  },
  "language_info": {
   "codemirror_mode": {
    "name": "ipython",
    "version": 3
   },
   "file_extension": ".py",
   "mimetype": "text/x-python",
   "name": "python",
   "nbconvert_exporter": "python",
   "pygments_lexer": "ipython3",
   "version": "3.7.6"
  }
 },
 "nbformat": 4,
 "nbformat_minor": 4
}
