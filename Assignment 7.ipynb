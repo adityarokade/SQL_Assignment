{
 "cells": [
  {
   "cell_type": "code",
   "execution_count": 1,
   "metadata": {},
   "outputs": [
    {
     "name": "stdout",
     "output_type": "stream",
     "text": [
      "ANSWER:-  SELECT * FROM table_name WHERE mod(column_name,2) = 0;  \n"
     ]
    }
   ],
   "source": [
    "#Q-13. Write an SQL query to show only odd rows from a table.\n",
    "\n",
    "print(\"\"\"ANSWER:-  SELECT * FROM table_name WHERE mod(column_name,2) = 0;  \"\"\")"
   ]
  },
  {
   "cell_type": "code",
   "execution_count": 2,
   "metadata": {},
   "outputs": [
    {
     "name": "stdout",
     "output_type": "stream",
     "text": [
      "ANSWER:-  1)    CREATE TABLE new_table LIKE original_table;\n",
      "                   2)    CREATE TABLE new_table LIKE original_table;\n",
      "INSERT INTO new_table SELECT * FROM original_table;\n"
     ]
    }
   ],
   "source": [
    "#Q-14. Write an SQL query to clone a new table from another table.\n",
    "\n",
    "print(\"\"\"ANSWER:-  1)    CREATE TABLE new_table LIKE original_table;\n",
    "                   2)    CREATE TABLE new_table LIKE original_table;\n",
    "INSERT INTO new_table SELECT * FROM original_table;\"\"\")"
   ]
  },
  {
   "cell_type": "code",
   "execution_count": null,
   "metadata": {},
   "outputs": [],
   "source": []
  }
 ],
 "metadata": {
  "kernelspec": {
   "display_name": "Python 3",
   "language": "python",
   "name": "python3"
  },
  "language_info": {
   "codemirror_mode": {
    "name": "ipython",
    "version": 3
   },
   "file_extension": ".py",
   "mimetype": "text/x-python",
   "name": "python",
   "nbconvert_exporter": "python",
   "pygments_lexer": "ipython3",
   "version": "3.7.6"
  }
 },
 "nbformat": 4,
 "nbformat_minor": 4
}
