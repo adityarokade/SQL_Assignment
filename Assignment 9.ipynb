{
 "cells": [
  {
   "cell_type": "code",
   "execution_count": 1,
   "metadata": {},
   "outputs": [
    {
     "name": "stdout",
     "output_type": "stream",
     "text": [
      "ANSWER:-    SELECT * FROM Worker ORDER BY Salary DESC LIMIT 10;\n",
      "\n",
      "                    SELECT TOP 10 * FROM Worker ORDER BY Salary DESC;\n",
      "                    \n",
      "                    \n",
      "                    SELECT * FROM (SELECT * FROM Worker ORDER BY Salary DESC)\n",
      "WHERE ROWNUM <= 10;\n"
     ]
    }
   ],
   "source": [
    "#Q-17.  Write an SQL query to show the top n (say 10) records of a table.\n",
    "\n",
    "\n",
    "print(\"\"\"ANSWER:-    SELECT * FROM Worker ORDER BY Salary DESC LIMIT 10;\n",
    "\n",
    "                    SELECT TOP 10 * FROM Worker ORDER BY Salary DESC;\n",
    "                    \n",
    "                    \n",
    "                    SELECT * FROM (SELECT * FROM Worker ORDER BY Salary DESC)\n",
    "WHERE ROWNUM <= 10;\"\"\")"
   ]
  },
  {
   "cell_type": "code",
   "execution_count": 2,
   "metadata": {},
   "outputs": [
    {
     "name": "stdout",
     "output_type": "stream",
     "text": [
      "ANSWER:-    SELECT Salary FROM Worker ORDER BY Salary DESC LIMIT n-1,1;\n",
      "\n",
      "\n",
      "\n",
      "                    SELECT TOP 1 Salary\n",
      "                    FROM (\n",
      "                     SELECT DISTINCT TOP n Salary\n",
      "                     FROM Worker \n",
      "                     ORDER BY Salary DESC\n",
      "                     )\n",
      "                    ORDER BY Salary ASC;\n"
     ]
    }
   ],
   "source": [
    "#Q-18. Write an SQL query to determine the nth (say n=5) highest salary from a table.\n",
    "\n",
    "\n",
    "\n",
    "print(\"\"\"ANSWER:-    SELECT Salary FROM Worker ORDER BY Salary DESC LIMIT n-1,1;\n",
    "\n",
    "\n",
    "\n",
    "                    SELECT TOP 1 Salary\n",
    "                    FROM (\n",
    "                     SELECT DISTINCT TOP n Salary\n",
    "                     FROM Worker \n",
    "                     ORDER BY Salary DESC\n",
    "                     )\n",
    "                    ORDER BY Salary ASC;\"\"\")"
   ]
  },
  {
   "cell_type": "code",
   "execution_count": null,
   "metadata": {},
   "outputs": [],
   "source": []
  }
 ],
 "metadata": {
  "kernelspec": {
   "display_name": "Python 3",
   "language": "python",
   "name": "python3"
  },
  "language_info": {
   "codemirror_mode": {
    "name": "ipython",
    "version": 3
   },
   "file_extension": ".py",
   "mimetype": "text/x-python",
   "name": "python",
   "nbconvert_exporter": "python",
   "pygments_lexer": "ipython3",
   "version": "3.7.6"
  }
 },
 "nbformat": 4,
 "nbformat_minor": 4
}
