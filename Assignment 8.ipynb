{
 "cells": [
  {
   "cell_type": "code",
   "execution_count": 1,
   "metadata": {},
   "outputs": [
    {
     "name": "stdout",
     "output_type": "stream",
     "text": [
      "ANSWER:-        (SELECT * FROM Worker)\n",
      "                        INTERSECT\n",
      "                        (SELECT * FROM WorkerClone);\n"
     ]
    }
   ],
   "source": [
    "#Q-15. Write an SQL query to fetch intersecting records of two tables.\n",
    "\n",
    "print(\"\"\"ANSWER:-        (SELECT * FROM Worker)\n",
    "                        INTERSECT\n",
    "                        (SELECT * FROM WorkerClone);\"\"\")"
   ]
  },
  {
   "cell_type": "code",
   "execution_count": 2,
   "metadata": {},
   "outputs": [
    {
     "name": "stdout",
     "output_type": "stream",
     "text": [
      "ANSWER:-     SELECT * FROM Worker\n",
      "MINUS\n",
      "SELECT * FROM Title;\n"
     ]
    }
   ],
   "source": [
    "#Q-16. Write an SQL query to show records from one table that another table does not have.\n",
    "\n",
    "print(\"\"\"ANSWER:-     SELECT * FROM Worker\n",
    "MINUS\n",
    "SELECT * FROM Title;\"\"\")"
   ]
  },
  {
   "cell_type": "code",
   "execution_count": null,
   "metadata": {},
   "outputs": [],
   "source": []
  }
 ],
 "metadata": {
  "kernelspec": {
   "display_name": "Python 3",
   "language": "python",
   "name": "python3"
  },
  "language_info": {
   "codemirror_mode": {
    "name": "ipython",
    "version": 3
   },
   "file_extension": ".py",
   "mimetype": "text/x-python",
   "name": "python",
   "nbconvert_exporter": "python",
   "pygments_lexer": "ipython3",
   "version": "3.7.6"
  }
 },
 "nbformat": 4,
 "nbformat_minor": 4
}
